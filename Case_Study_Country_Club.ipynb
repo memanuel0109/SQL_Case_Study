{
 "cells": [
  {
   "cell_type": "markdown",
   "metadata": {},
   "source": [
    "# PART I"
   ]
  },
  {
   "cell_type": "code",
   "execution_count": null,
   "metadata": {},
   "outputs": [],
   "source": [
    "# Q1: Some of the facilities charge a fee to members, but some do not.\n",
    "# Write a SQL query to produce a list of the names of the facilities that do."
   ]
  },
  {
   "cell_type": "code",
   "execution_count": null,
   "metadata": {},
   "outputs": [],
   "source": [
    "SELECT name\n",
    "FROM Facilities\n",
    "WHERE membercost > 0"
   ]
  },
  {
   "cell_type": "code",
   "execution_count": null,
   "metadata": {},
   "outputs": [],
   "source": [
    "# Q2: How many facilities do not charge a fee to members?"
   ]
  },
  {
   "cell_type": "code",
   "execution_count": null,
   "metadata": {},
   "outputs": [],
   "source": [
    "SELECT COUNT(name)\n",
    "FROM Facilities\n",
    "WHERE membercost = 0"
   ]
  },
  {
   "cell_type": "code",
   "execution_count": null,
   "metadata": {},
   "outputs": [],
   "source": [
    "# Q3: Write an SQL query to show a list of facilities that charge a fee to members,\n",
    "# where the fee is less than 20% of the facility's monthly maintenance cost.\n",
    "# Return the facid, facility name, member cost, and monthly maintenance of the\n",
    "# facilities in question"
   ]
  },
  {
   "cell_type": "code",
   "execution_count": null,
   "metadata": {},
   "outputs": [],
   "source": [
    "SELECT facid, name, membercost, monthlymaintenance\n",
    "FROM Facilities\n",
    "WHERE membercost > 0\n",
    "AND membercost < 0.20 * monthlymaintenance"
   ]
  },
  {
   "cell_type": "code",
   "execution_count": null,
   "metadata": {},
   "outputs": [],
   "source": [
    "# Q4: Write an SQL query to retrieve the details of facilities with ID 1 and 5.\n",
    "# Try writing the query without using the OR operator."
   ]
  },
  {
   "cell_type": "code",
   "execution_count": null,
   "metadata": {},
   "outputs": [],
   "source": [
    "SELECT *\n",
    "FROM Facilities\n",
    "WHERE name LIKE '% 2'"
   ]
  },
  {
   "cell_type": "code",
   "execution_count": null,
   "metadata": {},
   "outputs": [],
   "source": [
    "# Q5: Produce a list of facilities, with each labelled as\n",
    "# 'cheap' or 'expensive', depending on if their monthly maintenance cost is\n",
    "# more than $100. Return the name and monthly maintenance of the facilities\n",
    "# in question."
   ]
  },
  {
   "cell_type": "code",
   "execution_count": null,
   "metadata": {},
   "outputs": [],
   "source": [
    "SELECT name,\n",
    "CASE WHEN monthlymaintenance >100\n",
    "THEN 'expensive'\n",
    "WHEN monthlymaintenance <100\n",
    "THEN 'cheap'\n",
    "ELSE 'neither'\n",
    "END AS Costs\n",
    "FROM Facilities"
   ]
  },
  {
   "cell_type": "code",
   "execution_count": null,
   "metadata": {},
   "outputs": [],
   "source": [
    "# Q6: You'd like to get the first and last name of the last member(s)\n",
    "# who signed up. Try not to use the LIMIT clause for your solution."
   ]
  },
  {
   "cell_type": "code",
   "execution_count": null,
   "metadata": {},
   "outputs": [],
   "source": [
    "SELECT firstname, surname\n",
    "FROM Members\n",
    "ORDER BY joindate DESC"
   ]
  },
  {
   "cell_type": "code",
   "execution_count": null,
   "metadata": {},
   "outputs": [],
   "source": [
    "# Q7: Produce a list of all members who have used a tennis court.\n",
    "# Include in your output the name of the court, and the name of the member\n",
    "# formatted as a single column. Ensure no duplicate data, and order by\n",
    "# the member name."
   ]
  },
  {
   "cell_type": "code",
   "execution_count": null,
   "metadata": {},
   "outputs": [],
   "source": [
    "SELECT DISTINCT m.memid, m.surname, m.firstname\n",
    "FROM Bookings AS b\n",
    "INNER JOIN Facilities AS f\n",
    "    ON b.facid = f.facid\n",
    "INNER JOIN Members AS m\n",
    "    ON m.memid = b.memid\n",
    "WHERE f.name LIKE 'Tennis Court%'\n",
    "ORDER BY m.surname"
   ]
  },
  {
   "cell_type": "code",
   "execution_count": null,
   "metadata": {},
   "outputs": [],
   "source": [
    "# Q8: Produce a list of bookings on the day of 2012-09-14 which\n",
    "# will cost the member (or guest) more than $30. Remember that guests have\n",
    "# different costs to members (the listed costs are per half-hour 'slot'), and\n",
    "# the guest user's ID is always 0. Include in your output the name of the\n",
    "# facility, the name of the member formatted as a single column, and the cost.\n",
    "# Order by descending cost, and do not use any subqueries."
   ]
  },
  {
   "cell_type": "code",
   "execution_count": null,
   "metadata": {},
   "outputs": [],
   "source": [
    "SELECT \n",
    "    f.name,\n",
    "    CONCAT( m.surname, ', ', m.firstname ) AS 'member name',\n",
    "    CASE WHEN m.memid <>0\n",
    "    THEN f.membercost * b.slots\n",
    "    ELSE f.guestcost * b.slots END AS cost\n",
    "FROM Bookings AS b\n",
    "INNER JOIN Members AS m\n",
    "    ON m.memid = b.memid\n",
    "INNER JOIN Facilities AS f\n",
    "    ON f.facid = b.facid\n",
    "WHERE starttime LIKE '2012-09-14%'\n",
    "ORDER BY cost DESC\n",
    "LIMIT 12"
   ]
  },
  {
   "cell_type": "code",
   "execution_count": null,
   "metadata": {},
   "outputs": [],
   "source": [
    "# Q9: This time, produce the same result as in Q8, but using a subquery."
   ]
  },
  {
   "cell_type": "code",
   "execution_count": null,
   "metadata": {},
   "outputs": [],
   "source": [
    "SELECT \n",
    "    f.name,\n",
    "    CONCAT( m.surname, ', ', m.firstname ) AS 'member name',\n",
    "    (SELECT CASE WHEN m.memid <>0\n",
    "    THEN f.membercost * b.slots\n",
    "    ELSE f.guestcost * b.slots END) AS cost\n",
    "FROM Bookings AS b\n",
    "INNER JOIN Members AS m\n",
    "    ON m.memid = b.memid\n",
    "INNER JOIN Facilities AS f\n",
    "    ON f.facid = b.facid\n",
    "WHERE starttime LIKE '2012-09-14%'\n",
    "ORDER BY cost DESC\n",
    "LIMIT 12"
   ]
  },
  {
   "cell_type": "markdown",
   "metadata": {},
   "source": [
    "# PART II"
   ]
  },
  {
   "cell_type": "code",
   "execution_count": 20,
   "metadata": {},
   "outputs": [],
   "source": [
    "from sqlalchemy import create_engine\n",
    "import pandas as pd"
   ]
  },
  {
   "cell_type": "code",
   "execution_count": null,
   "metadata": {},
   "outputs": [],
   "source": [
    "engine = create_engine('sqlite:///')"
   ]
  },
  {
   "cell_type": "code",
   "execution_count": null,
   "metadata": {},
   "outputs": [],
   "source": [
    "table_names = engine.table_names()\n",
    "print(table_names)"
   ]
  },
  {
   "cell_type": "code",
   "execution_count": null,
   "metadata": {},
   "outputs": [],
   "source": [
    "# Q10: Produce a list of facilities with a total revenue less than 1000.\n",
    "# The output of facility name and total revenue, sorted by revenue. Remember\n",
    "# that there's a different cost for guests and members! "
   ]
  },
  {
   "cell_type": "code",
   "execution_count": null,
   "metadata": {},
   "outputs": [],
   "source": [
    "con = engine.connect()\n",
    "rs = con.execute('SELECT name, revenue FROM Facilities AS f WHERE revenue < 1000 SORT BY revenue')\n",
    "df = pd.DataFrame(rs.fetchall())\n",
    "df.columns = rs.keys()\n",
    "con.close()"
   ]
  },
  {
   "cell_type": "code",
   "execution_count": null,
   "metadata": {},
   "outputs": [],
   "source": [
    "# Alternative option\n",
    "SELECT DISTINCT f.name, (\n",
    "\n",
    "SELECT\n",
    "CASE WHEN m.memid <>0\n",
    "THEN f.membercost * b.slots\n",
    "WHEN m.memid =0\n",
    "THEN f.guestcost * b.slots\n",
    "END\n",
    ") AS revenue\n",
    "FROM Facilities AS f\n",
    "INNER JOIN Bookings AS b ON f.facid = b.facid\n",
    "INNER JOIN Members AS m ON b.memid = m.memid\n",
    "ORDER BY f.name"
   ]
  },
  {
   "cell_type": "code",
   "execution_count": null,
   "metadata": {},
   "outputs": [],
   "source": [
    "# Q11: Produce a report of members and who recommended them in alphabetic surname,firstname order"
   ]
  },
  {
   "cell_type": "code",
   "execution_count": null,
   "metadata": {},
   "outputs": [],
   "source": [
    "con = engine.connect()\n",
    "rs = con.execute(\"SELECT CONCAT( m.surname, ', ', m.firstname ) AS members, memid, recommendedby FROM Members AS m ORDER BY members\")\n",
    "df = pd.DataFrame(rs.fetchall())\n",
    "df.columns = rs.keys()\n",
    "con.close()"
   ]
  },
  {
   "cell_type": "code",
   "execution_count": null,
   "metadata": {},
   "outputs": [],
   "source": [
    "SELECT CONCAT(m.surname, ', ', m.firstname) AS members, memid, recommendedby \n",
    "FROM Members AS m \n",
    "ORDER BY members"
   ]
  },
  {
   "cell_type": "code",
   "execution_count": null,
   "metadata": {},
   "outputs": [],
   "source": [
    "# Q12: Find the facilities with their usage by member, but not guests"
   ]
  },
  {
   "cell_type": "code",
   "execution_count": null,
   "metadata": {},
   "outputs": [],
   "source": [
    "con = engine.connect()\n",
    "rs = con.execute(\"SELECT CONCAT( m.surname, ', ', m.firstname ) AS members, f.name FROM Bookings AS b INNER JOIN Facilities AS f ON f.facid = b.facid INNER JOIN Members AS m ON b.memid = m.memid WHERE m.memid <>0\")\n",
    "df = pd.DataFrame(rs.fetchall())\n",
    "df.columns = rs.keys()\n",
    "con.close()"
   ]
  },
  {
   "cell_type": "code",
   "execution_count": null,
   "metadata": {},
   "outputs": [],
   "source": [
    "SELECT CONCAT( m.surname, ', ', m.firstname ) AS members, f.name\n",
    "FROM Bookings AS b\n",
    "INNER JOIN Facilities AS f ON f.facid = b.facid\n",
    "INNER JOIN Members AS m ON b.memid = m.memid\n",
    "WHERE m.memid <>0"
   ]
  },
  {
   "cell_type": "code",
   "execution_count": null,
   "metadata": {},
   "outputs": [],
   "source": [
    "# Q13: Find the facilities usage by month, but not guests"
   ]
  },
  {
   "cell_type": "code",
   "execution_count": null,
   "metadata": {},
   "outputs": [],
   "source": [
    "con = engine.connect()\n",
    "rs = con.execute(\"SELECT DISTINCT f.name, EXTRACT(MONTH FROM b.starttime) AS months, COUNT( b.memid ) AS usage_by_month FROM Bookings AS b INNER JOIN Facilities AS f ON b.facid = f.facid WHERE b.memid <>0 GROUP BY f.name, months ORDER BY usage_by_month DESC\")\n",
    "df.columns = rs.keys()\n",
    "con.close()"
   ]
  },
  {
   "cell_type": "code",
   "execution_count": null,
   "metadata": {},
   "outputs": [],
   "source": [
    "SELECT \n",
    "    DISTINCT f.name, \n",
    "    EXTRACT(MONTH FROM b.starttime) AS months, COUNT( b.memid ) AS usage_by_month\n",
    "FROM Bookings AS b\n",
    "INNER JOIN Facilities AS f \n",
    "    ON b.facid = f.facid\n",
    "WHERE b.memid <>0\n",
    "GROUP BY f.name, months\n",
    "ORDER BY usage_by_month DESC"
   ]
  }
 ],
 "metadata": {
  "kernelspec": {
   "display_name": "Python 3",
   "language": "python",
   "name": "python3"
  },
  "language_info": {
   "codemirror_mode": {
    "name": "ipython",
    "version": 3
   },
   "file_extension": ".py",
   "mimetype": "text/x-python",
   "name": "python",
   "nbconvert_exporter": "python",
   "pygments_lexer": "ipython3",
   "version": "3.7.6"
  }
 },
 "nbformat": 4,
 "nbformat_minor": 4
}
